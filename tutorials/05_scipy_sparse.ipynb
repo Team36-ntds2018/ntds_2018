{
 "cells": [
  {
   "cell_type": "markdown",
   "metadata": {},
   "source": [
    "# [NTDS'18] tutorial 5: sparse matrices in scipy\n",
    "[ntds'18]: https://github.com/mdeff/ntds_2018\n",
    "\n",
    "[Eda Bayram](http://lts4.epfl.ch/bayram), [EPFL LTS4](http://lts4.epfl.ch)"
   ]
  },
  {
   "cell_type": "markdown",
   "metadata": {},
   "source": [
    "## Ojective\n",
    "\n",
    "This is a short tutorial on the `scipy.sparse` module. We will talk about:\n",
    "\n",
    "1. What is sparsity?\n",
    "2. Sparse matrix storage schemes\n",
    "3. Linear operations on sparse matrices"
   ]
  },
  {
   "cell_type": "code",
   "execution_count": null,
   "metadata": {},
   "outputs": [],
   "source": [
    "%matplotlib inline"
   ]
  },
  {
   "cell_type": "code",
   "execution_count": null,
   "metadata": {},
   "outputs": [],
   "source": [
    "import numpy as np\n",
    "import matplotlib.pyplot as plt\n",
    "from scipy import sparse\n",
    "import scipy.sparse.linalg\n",
    "from scipy import linalg\n",
    "import pandas as pd"
   ]
  },
  {
   "cell_type": "markdown",
   "metadata": {},
   "source": [
    "## 1. Sparsity"
   ]
  },
  {
   "cell_type": "markdown",
   "metadata": {},
   "source": [
    "Why do we need data structures for sparse matrices?\n",
    "\n",
    "* Less memory usage\n",
    "* More efficiency computations\n",
    "\n",
    "Most real-world graphs / networks are sparse!"
   ]
  },
  {
   "cell_type": "markdown",
   "metadata": {},
   "source": [
    "Let us create a random sparse matrix and analyze the sparsity."
   ]
  },
  {
   "cell_type": "code",
   "execution_count": null,
   "metadata": {},
   "outputs": [],
   "source": [
    "N = 250 \n",
    "dummy = sparse.random(N, N, density=0.01)\n",
    "density = dummy.nnz / N**2\n",
    "print('Number of non-zeros: {}, density: {}'.format(dummy.nnz, density))"
   ]
  },
  {
   "cell_type": "code",
   "execution_count": null,
   "metadata": {},
   "outputs": [],
   "source": [
    "plt.spy(dummy, markersize=1);"
   ]
  },
  {
   "cell_type": "code",
   "execution_count": null,
   "metadata": {},
   "outputs": [],
   "source": [
    "print(dummy)"
   ]
  },
  {
   "cell_type": "markdown",
   "metadata": {},
   "source": [
    "Let us convert the sparse array to some dense formats."
   ]
  },
  {
   "cell_type": "code",
   "execution_count": null,
   "metadata": {},
   "outputs": [],
   "source": [
    "type(dummy.A)"
   ]
  },
  {
   "cell_type": "code",
   "execution_count": null,
   "metadata": {},
   "outputs": [],
   "source": [
    "type(dummy.toarray())"
   ]
  },
  {
   "cell_type": "code",
   "execution_count": null,
   "metadata": {},
   "outputs": [],
   "source": [
    "type(dummy.todense())"
   ]
  },
  {
   "cell_type": "markdown",
   "metadata": {},
   "source": [
    "## 2. Sparse matrix storage schemes\n",
    "\n",
    "The `scipy.sparse` module provides several formats to store sparse matrices.\n",
    "Each format has pros and cons, and some are better for some tasks, such as matrix construction, indexing, or linear operations."
   ]
  },
  {
   "cell_type": "markdown",
   "metadata": {},
   "source": [
    "### 2.1 List of lists format (LIL)\n",
    "\n",
    "* Supports indexing, which cannot be done with other sparse matrix formats.\n",
    "* Changing sparsity structure is efficient, e.g., reading a sparse matrix from a text file."
   ]
  },
  {
   "cell_type": "code",
   "execution_count": null,
   "metadata": {},
   "outputs": [],
   "source": [
    "# Create an empty lil matrix.\n",
    "mtx = sparse.lil_matrix((4, 5))"
   ]
  },
  {
   "cell_type": "code",
   "execution_count": null,
   "metadata": {},
   "outputs": [],
   "source": [
    "# Assign some of the indices, i.e., changing the sparsity.\n",
    "mtx[:2, [1, 3]] = np.array([[1, 2], [3, 4]])"
   ]
  },
  {
   "cell_type": "code",
   "execution_count": null,
   "metadata": {},
   "outputs": [],
   "source": [
    "mtx.toarray()"
   ]
  },
  {
   "cell_type": "code",
   "execution_count": null,
   "metadata": {},
   "outputs": [],
   "source": [
    "# Read some of the indices.\n",
    "mtx[:2].toarray()"
   ]
  },
  {
   "cell_type": "markdown",
   "metadata": {},
   "source": [
    "### 2.2 Coordinate format (COO)\n",
    "\n",
    "A COO matrix is constructed from three lists:\n",
    "* a list of column indices,\n",
    "* a list of row indices,\n",
    "* a list of values,\n",
    "where each element of those lists represents a non-zero element in the resulting sparse matrix.\n",
    "\n",
    "This format is well-adapted to build a sparse adjacency matrix from an edge list."
   ]
  },
  {
   "cell_type": "code",
   "execution_count": null,
   "metadata": {},
   "outputs": [],
   "source": [
    "row = np.array([0, 3, 1, 0])  # row coordinates\n",
    "col = np.array([0, 3, 1, 2])  # column coordinates\n",
    "data = np.array([4, 5, 7, 9])  # values\n",
    "\n",
    "mtx = sparse.coo_matrix((data, (row, col)), shape=(4, 4))"
   ]
  },
  {
   "cell_type": "code",
   "execution_count": null,
   "metadata": {},
   "outputs": [],
   "source": [
    "mtx.toarray()"
   ]
  },
  {
   "cell_type": "markdown",
   "metadata": {},
   "source": [
    "Advantages:\n",
    "* Fast element-wise operations.\n",
    "* Fast conversion to other sparse formats."
   ]
  },
  {
   "cell_type": "code",
   "execution_count": null,
   "metadata": {},
   "outputs": [],
   "source": [
    "# Element-wise power.\n",
    "mtx.power(0.5).toarray()"
   ]
  },
  {
   "cell_type": "code",
   "execution_count": null,
   "metadata": {},
   "outputs": [],
   "source": [
    "mtx_csr = mtx.tocsr()"
   ]
  },
  {
   "cell_type": "markdown",
   "metadata": {},
   "source": [
    "Disadvantages:\n",
    "* Indexing is not possible. (Use LIL instead!)\n",
    "* Slow at arithmetic operations. (Use CSR, CSC instead!)"
   ]
  },
  {
   "cell_type": "markdown",
   "metadata": {},
   "source": [
    "**Exercise:** Can you construct the sparse adjacency matrix in `COO` and `LIL` formats for a network given by the following edge list ?"
   ]
  },
  {
   "cell_type": "code",
   "execution_count": null,
   "metadata": {},
   "outputs": [],
   "source": [
    "edges = pd.DataFrame(\n",
    "    {\"node_1\": [1,1,1,2,3,3,3],\n",
    "     \"node_2\": [3,4,5,6,4,5,6],\n",
    "     \"weights\": [0.6,0.5,0.7,0.1,0.6,0.1,0.9]\n",
    "    })\n",
    "edges"
   ]
  },
  {
   "cell_type": "markdown",
   "metadata": {},
   "source": [
    "### 2.3 Compressed sparse row & column formats (CSR & CSC)"
   ]
  },
  {
   "cell_type": "code",
   "execution_count": null,
   "metadata": {},
   "outputs": [],
   "source": [
    "# Get the data array\n",
    "mtx_csr.data"
   ]
  },
  {
   "cell_type": "markdown",
   "metadata": {},
   "source": [
    "`CSR` is row oriented:\n",
    "* efficient row slicing\n",
    "* fast matrix vector products, the right multiplication `CSR * v`"
   ]
  },
  {
   "cell_type": "code",
   "execution_count": null,
   "metadata": {},
   "outputs": [],
   "source": [
    "# Get array of column indices for CSR.\n",
    "mtx_csr.indices"
   ]
  },
  {
   "cell_type": "code",
   "execution_count": null,
   "metadata": {},
   "outputs": [],
   "source": [
    "# Matrix-vector product from the right.\n",
    "v = np.array([1, 1, 1, 1])\n",
    "mtx_csr.dot(v)"
   ]
  },
  {
   "cell_type": "markdown",
   "metadata": {},
   "source": [
    "`CSC` is column oriented:\n",
    "* efficient column slicing\n",
    "* fast matrix vector products, the left multiplication `v * CSC`"
   ]
  },
  {
   "cell_type": "code",
   "execution_count": null,
   "metadata": {},
   "outputs": [],
   "source": [
    "mtx_csc = mtx.tocsc()\n",
    "# Get array of row indices for CSC\n",
    "mtx_csc.indices"
   ]
  },
  {
   "cell_type": "code",
   "execution_count": null,
   "metadata": {},
   "outputs": [],
   "source": [
    "# vectro-matrix product\n",
    "v * mtx_csc"
   ]
  },
  {
   "cell_type": "markdown",
   "metadata": {},
   "source": [
    "Efficient arithmetic operations `CSC + CSC`, `CSR * CSR`, etc."
   ]
  },
  {
   "cell_type": "code",
   "execution_count": null,
   "metadata": {},
   "outputs": [],
   "source": [
    "# Matrix-Matrix product (* is elementwise product on Numpy!)\n",
    "prod = mtx_csc * mtx_csc\n",
    "prod.toarray()"
   ]
  },
  {
   "cell_type": "code",
   "execution_count": null,
   "metadata": {},
   "outputs": [],
   "source": [
    "prod = mtx_csr @ mtx_csr # @ is matrix product both on numpy and scipy!\n",
    "prod.toarray()"
   ]
  },
  {
   "cell_type": "markdown",
   "metadata": {},
   "source": [
    "You can read more about sparse matrix storage schemes [on Wikipedia](https://en.wikipedia.org/wiki/Sparse_matrix#Storing_a_sparse_matrix)."
   ]
  },
  {
   "cell_type": "markdown",
   "metadata": {},
   "source": [
    "## 3. Linear agebra on sparse matrices"
   ]
  },
  {
   "cell_type": "markdown",
   "metadata": {},
   "source": [
    "### 3.1 Some basic operations"
   ]
  },
  {
   "cell_type": "code",
   "execution_count": null,
   "metadata": {},
   "outputs": [],
   "source": [
    "# sparse matrix from diagonals\n",
    "A = sparse.spdiags(np.array([[1,2,3,4], [1,2,3,4], [1,2,3,4]]), [-1,0,2], 4, 4)\n",
    "A.toarray()"
   ]
  },
  {
   "cell_type": "markdown",
   "metadata": {},
   "source": [
    "**Inversion of a sparse matrix**"
   ]
  },
  {
   "cell_type": "code",
   "execution_count": null,
   "metadata": {},
   "outputs": [],
   "source": [
    "A = A.tocsc()  # Convert it to CSC matrix for efficiency.\n",
    "Ainv = sparse.linalg.inv(A)\n",
    "Ainv.toarray()"
   ]
  },
  {
   "cell_type": "code",
   "execution_count": null,
   "metadata": {},
   "outputs": [],
   "source": [
    "sparse.linalg.norm(A)  # Default to Frobenius norm."
   ]
  },
  {
   "cell_type": "markdown",
   "metadata": {},
   "source": [
    "**Solve $A x = b$**"
   ]
  },
  {
   "cell_type": "code",
   "execution_count": null,
   "metadata": {},
   "outputs": [],
   "source": [
    "b = np.array([1, 1, 1, 1])\n",
    "x = sparse.linalg.spsolve(A, b)\n",
    "x"
   ]
  },
  {
   "cell_type": "markdown",
   "metadata": {},
   "source": [
    "### 3.2 Eigenvalue decomposition"
   ]
  },
  {
   "cell_type": "markdown",
   "metadata": {},
   "source": [
    "For the full eigendecomposition of an array, you can use the functions provided by Numpy:\n",
    "* `numpy.linalg.eig`\n",
    "* `numpy.linalg.eigvals`\n",
    "* `numpy.linalg.eigh`\n",
    "* `numpy.linalg.eighvals`\n",
    "\n",
    "Scipy presents more functionality (read [here](https://www.scipy.org/scipylib/faq.html#why-both-numpy-linalg-and-scipy-linalg-what-s-the-difference)) such as solving generalized eigenvalue problem, you can use the functions from Scipy:\n",
    "* `scipy.linalg.eig`\n",
    "* `scipy.linalg.eigvals`\n",
    "* `scipy.linalg.eigh`\n",
    "* `scipy.linalg.eighvals`"
   ]
  },
  {
   "cell_type": "code",
   "execution_count": null,
   "metadata": {},
   "outputs": [],
   "source": [
    "linalg.eigvals(A.toarray())"
   ]
  },
  {
   "cell_type": "markdown",
   "metadata": {},
   "source": [
    "Decomposition of an Hermitian matrix:"
   ]
  },
  {
   "cell_type": "code",
   "execution_count": null,
   "metadata": {},
   "outputs": [],
   "source": [
    "A = np.array([[1, -2j], [2j, 5]])\n",
    "linalg.eigvalsh(A)"
   ]
  },
  {
   "cell_type": "markdown",
   "metadata": {},
   "source": [
    "However, for quickly finding a few eigenvalues of a large sparse matrix, you should use the corresponding functions from the [sparse module](https://docs.scipy.org/doc/scipy/reference/tutorial/arpack.html):\n",
    "\n",
    "* `scipy.sparse.eigs`\n",
    "* `scipy.sparse.eigsh`"
   ]
  },
  {
   "cell_type": "code",
   "execution_count": null,
   "metadata": {},
   "outputs": [],
   "source": [
    "dummy = sparse.random(30, 30, density=0.01)\n",
    "evals, evecs = sparse.linalg.eigs(dummy, k=5, which='SM')\n",
    "evals"
   ]
  }
 ],
 "metadata": {
  "kernelspec": {
   "display_name": "Python 3",
   "language": "python",
   "name": "python3"
  },
  "language_info": {
   "codemirror_mode": {
    "name": "ipython",
    "version": 3
   },
   "file_extension": ".py",
   "mimetype": "text/x-python",
   "name": "python",
   "nbconvert_exporter": "python",
   "pygments_lexer": "ipython3",
   "version": "3.6.6"
  }
 },
 "nbformat": 4,
 "nbformat_minor": 2
}
